{
 "cells": [
  {
   "cell_type": "code",
   "execution_count": 3,
   "id": "426c3cad-da32-47e3-8e10-fab5f3ed54af",
   "metadata": {},
   "outputs": [
    {
     "name": "stderr",
     "output_type": "stream",
     "text": [
      "[nltk_data] Downloading package stopwords to /home/vivek/nltk_data...\n",
      "[nltk_data]   Unzipping corpora/stopwords.zip.\n"
     ]
    }
   ],
   "source": [
    "import nltk\n",
    "nltk.download ('stopwords')\n",
    "from nltk.corpus import stopwords"
   ]
  },
  {
   "cell_type": "code",
   "execution_count": 6,
   "id": "f6cd7551-a0da-49c3-a554-45d3bd965d0a",
   "metadata": {},
   "outputs": [],
   "source": [
    "en_stopwords = stopwords.words('english')"
   ]
  },
  {
   "cell_type": "code",
   "execution_count": 8,
   "id": "c71d746d-c533-4223-a7ea-c7a16be7ba18",
   "metadata": {},
   "outputs": [],
   "source": [
    "#en_stopwords"
   ]
  },
  {
   "cell_type": "code",
   "execution_count": 21,
   "id": "647a6585-8ade-4494-a00a-af3da2a7548b",
   "metadata": {},
   "outputs": [],
   "source": [
    "sentence = \"it was too far to go to the shop and he did not want her to walk\""
   ]
  },
  {
   "cell_type": "code",
   "execution_count": 22,
   "id": "43f4f088-a84f-4b10-9238-45f8bf0e5f27",
   "metadata": {},
   "outputs": [],
   "source": [
    "sentence_no_stopwords = \" \".join([word for word in sentence.split() if word not in en_stopwords])"
   ]
  },
  {
   "cell_type": "code",
   "execution_count": 23,
   "id": "a575cfd2-ca92-4028-bfa3-4eee2102d0c8",
   "metadata": {},
   "outputs": [
    {
     "data": {
      "text/plain": [
       "'far shop did not want walk'"
      ]
     },
     "execution_count": 23,
     "metadata": {},
     "output_type": "execute_result"
    }
   ],
   "source": [
    "sentence_no_stopwords"
   ]
  },
  {
   "cell_type": "code",
   "execution_count": 24,
   "id": "acb24a9a-1aa5-478a-8190-7a3789b0bf83",
   "metadata": {},
   "outputs": [
    {
     "ename": "ValueError",
     "evalue": "list.remove(x): x not in list",
     "output_type": "error",
     "traceback": [
      "\u001b[0;31m---------------------------------------------------------------------------\u001b[0m",
      "\u001b[0;31mValueError\u001b[0m                                Traceback (most recent call last)",
      "Cell \u001b[0;32mIn[24], line 1\u001b[0m\n\u001b[0;32m----> 1\u001b[0m \u001b[43men_stopwords\u001b[49m\u001b[38;5;241;43m.\u001b[39;49m\u001b[43mremove\u001b[49m\u001b[43m \u001b[49m\u001b[43m(\u001b[49m\u001b[38;5;124;43m\"\u001b[39;49m\u001b[38;5;124;43mnot\u001b[39;49m\u001b[38;5;124;43m\"\u001b[39;49m\u001b[43m)\u001b[49m\n",
      "\u001b[0;31mValueError\u001b[0m: list.remove(x): x not in list"
     ]
    }
   ],
   "source": [
    "en_stopwords.remove (\"not\")"
   ]
  },
  {
   "cell_type": "code",
   "execution_count": 25,
   "id": "e94f7c15-bc7a-4888-a998-6518a62f1be7",
   "metadata": {},
   "outputs": [
    {
     "ename": "ValueError",
     "evalue": "list.remove(x): x not in list",
     "output_type": "error",
     "traceback": [
      "\u001b[0;31m---------------------------------------------------------------------------\u001b[0m",
      "\u001b[0;31mValueError\u001b[0m                                Traceback (most recent call last)",
      "Cell \u001b[0;32mIn[25], line 1\u001b[0m\n\u001b[0;32m----> 1\u001b[0m \u001b[43men_stopwords\u001b[49m\u001b[38;5;241;43m.\u001b[39;49m\u001b[43mremove\u001b[49m\u001b[43m \u001b[49m\u001b[43m(\u001b[49m\u001b[38;5;124;43m\"\u001b[39;49m\u001b[38;5;124;43mdid\u001b[39;49m\u001b[38;5;124;43m\"\u001b[39;49m\u001b[43m)\u001b[49m\n\u001b[1;32m      2\u001b[0m en_stopwords\u001b[38;5;241m.\u001b[39mappend (\u001b[38;5;124m\"\u001b[39m\u001b[38;5;124mgo\u001b[39m\u001b[38;5;124m\"\u001b[39m)\n",
      "\u001b[0;31mValueError\u001b[0m: list.remove(x): x not in list"
     ]
    }
   ],
   "source": [
    "en_stopwords.remove (\"did\")\n",
    "en_stopwords.append (\"go\")"
   ]
  },
  {
   "cell_type": "code",
   "execution_count": 26,
   "id": "8944e963-96d0-4cbb-aa36-c9445aadc241",
   "metadata": {},
   "outputs": [],
   "source": [
    "sentence_no_stopwords = \" \".join([word for word in sentence.split() if word not in en_stopwords])"
   ]
  },
  {
   "cell_type": "code",
   "execution_count": 27,
   "id": "5e156679-aec7-4321-83df-a57d5d8b7972",
   "metadata": {},
   "outputs": [
    {
     "data": {
      "text/plain": [
       "'far shop did not want walk'"
      ]
     },
     "execution_count": 27,
     "metadata": {},
     "output_type": "execute_result"
    }
   ],
   "source": [
    "sentence_no_stopwords"
   ]
  },
  {
   "cell_type": "code",
   "execution_count": 28,
   "id": "353d6b8c-689d-472f-99a7-0a1b830fe2af",
   "metadata": {},
   "outputs": [],
   "source": [
    "import re"
   ]
  },
  {
   "cell_type": "code",
   "execution_count": 29,
   "id": "f76d40e7-e946-46cc-8f1d-01c2ec9ccb93",
   "metadata": {},
   "outputs": [
    {
     "data": {
      "text/plain": [
       "<re.Match object; span=(18, 25), match='pattern'>"
      ]
     },
     "execution_count": 29,
     "metadata": {},
     "output_type": "execute_result"
    }
   ],
   "source": [
    "result_search = re.search(\"pattern\",r\"string to contain pattern\")\n",
    "result_search"
   ]
  },
  {
   "cell_type": "code",
   "execution_count": 30,
   "id": "0462a298-ebd7-4d5e-9d4e-d7d3d1da154d",
   "metadata": {},
   "outputs": [],
   "source": [
    "result_search2 = re.search(\"pattern\",r\"the phrase to find is not in this string\")\n",
    "result_search2"
   ]
  },
  {
   "cell_type": "code",
   "execution_count": 32,
   "id": "2cd55863-ef5f-4bcf-b088-31136e6979e4",
   "metadata": {},
   "outputs": [
    {
     "data": {
      "text/plain": [
       "'sarah was able to help me find the items I needs quickly'"
      ]
     },
     "execution_count": 32,
     "metadata": {},
     "output_type": "execute_result"
    }
   ],
   "source": [
    "string1= r\"sara was able to help me find the items I needs quickly\"\n",
    "new_string1 = re.sub(\"sara\",\"sarah\", string1)\n",
    "new_string1"
   ]
  },
  {
   "cell_type": "code",
   "execution_count": 33,
   "id": "3a7eb70b-c570-4a42-8a15-9488345b0a15",
   "metadata": {},
   "outputs": [],
   "source": [
    "customer_reviews = ['sam was a great help to me in the store', \n",
    "                    'the cashier was very rude to me, I think her name was eleanor', \n",
    "                    'amazing work from sadeen!', \n",
    "                    'sarah was able to help me find the items i needed quickly', \n",
    "                    'lucy is such a great addition to the team', \n",
    "                    'great service from sara she found me what i wanted'\n",
    "                   ]"
   ]
  },
  {
   "cell_type": "code",
   "execution_count": 34,
   "id": "bd08149c-84bc-4efa-96cf-50011baa720a",
   "metadata": {},
   "outputs": [
    {
     "data": {
      "text/plain": [
       "['sarah was able to help me find the items i needed quickly',\n",
       " 'great service from sara she found me what i wanted']"
      ]
     },
     "execution_count": 34,
     "metadata": {},
     "output_type": "execute_result"
    }
   ],
   "source": [
    "sarah_reviews = []\n",
    "pattern = r\"sarah?\"\n",
    "for string in customer_reviews:\n",
    "    if (re.search(pattern, string)):\n",
    "        sarah_reviews.append(string)\n",
    "sarah_reviews"
   ]
  },
  {
   "cell_type": "code",
   "execution_count": 35,
   "id": "ded21e09-f6c4-404c-ba5c-39655475b5a0",
   "metadata": {},
   "outputs": [
    {
     "data": {
      "text/plain": [
       "['amazing work from sadeen!']"
      ]
     },
     "execution_count": 35,
     "metadata": {},
     "output_type": "execute_result"
    }
   ],
   "source": [
    "a_reviews = []\n",
    "pattern_to_find = r\"^a\"\n",
    "for string in customer_reviews:\n",
    "    if(re.search(pattern_to_find,string)):\n",
    "        a_reviews.append(string)\n",
    "a_reviews"
   ]
  },
  {
   "cell_type": "code",
   "execution_count": 36,
   "id": "28b6cdad-1b07-4287-ab7e-a73718ceba39",
   "metadata": {},
   "outputs": [
    {
     "data": {
      "text/plain": [
       "['sarah was able to help me find the items i needed quickly']"
      ]
     },
     "execution_count": 36,
     "metadata": {},
     "output_type": "execute_result"
    }
   ],
   "source": [
    "e_reviews = []\n",
    "pattern_to_find = r\"y$\"\n",
    "for string in customer_reviews:\n",
    "    if(re.search(pattern_to_find,string)):\n",
    "        e_reviews.append(string)\n",
    "e_reviews"
   ]
  },
  {
   "cell_type": "code",
   "execution_count": 38,
   "id": "4a00611a-1d6b-4bab-811a-5d0b9bb5f180",
   "metadata": {},
   "outputs": [
    {
     "data": {
      "text/plain": [
       "['sarah was able to help me find the items i needed quickly',\n",
       " 'great service from sara she found me what i wanted']"
      ]
     },
     "execution_count": 38,
     "metadata": {},
     "output_type": "execute_result"
    }
   ],
   "source": [
    "needwant_reviews = []\n",
    "pattern_to_find = r\"(need|want)ed\"\n",
    "for string in customer_reviews:\n",
    "    if(re.search(pattern_to_find,string)):\n",
    "        needwant_reviews.append(string)\n",
    "needwant_reviews"
   ]
  },
  {
   "cell_type": "code",
   "execution_count": 40,
   "id": "76b0affb-c8fb-4fcf-8d6c-246c8f3f2257",
   "metadata": {},
   "outputs": [
    {
     "data": {
      "text/plain": [
       "['sam was a great help to me in the store',\n",
       " 'the cashier was very rude to me I think her name was eleanor',\n",
       " 'amazing work from sadeen',\n",
       " 'sarah was able to help me find the items i needed quickly',\n",
       " 'lucy is such a great addition to the team',\n",
       " 'great service from sara she found me what i wanted']"
      ]
     },
     "execution_count": 40,
     "metadata": {},
     "output_type": "execute_result"
    }
   ],
   "source": [
    "no_punct_reviews = []\n",
    "pattent_to_find = r\"[^\\w\\s]\"  # r: raw string, [^]: represents NOT, \\w: Word, \\s: White space\n",
    "\n",
    "for string in customer_reviews:\n",
    "    no_punct_string = re.sub(pattent_to_find,\"\",string)\n",
    "    no_punct_reviews.append(no_punct_string)\n",
    "no_punct_reviews"
   ]
  },
  {
   "cell_type": "markdown",
   "id": "540a56a5-071e-447e-8a5b-94f7dad16cf6",
   "metadata": {},
   "source": [
    "## Tokenization"
   ]
  },
  {
   "cell_type": "code",
   "execution_count": 48,
   "id": "0045ffcc-4378-464a-a865-ff814cd1c0a9",
   "metadata": {},
   "outputs": [
    {
     "name": "stderr",
     "output_type": "stream",
     "text": [
      "[nltk_data] Downloading package punkt_tab to /home/vivek/nltk_data...\n",
      "[nltk_data]   Unzipping tokenizers/punkt_tab.zip.\n"
     ]
    }
   ],
   "source": [
    "nltk.download(\"punkt_tab\")\n",
    "from nltk.tokenize import word_tokenize, sent_tokenize"
   ]
  },
  {
   "cell_type": "code",
   "execution_count": 49,
   "id": "a95bb35e-dae7-452b-8961-e0f4a64e7788",
   "metadata": {},
   "outputs": [],
   "source": [
    "sentence = \"Her cat's name is Luna. Her dog's name is Max.\""
   ]
  },
  {
   "cell_type": "code",
   "execution_count": 50,
   "id": "f79ebd48-41a6-435c-b17b-e46104c7efce",
   "metadata": {},
   "outputs": [
    {
     "data": {
      "text/plain": [
       "[\"Her cat's name is Luna.\", \"Her dog's name is Max.\"]"
      ]
     },
     "execution_count": 50,
     "metadata": {},
     "output_type": "execute_result"
    }
   ],
   "source": [
    "sent_tokenize(sentence)"
   ]
  },
  {
   "cell_type": "code",
   "execution_count": 51,
   "id": "0c0855b8-b15e-4c84-afd6-8902c331b48d",
   "metadata": {},
   "outputs": [
    {
     "data": {
      "text/plain": [
       "['Her', 'cat', \"'s\", 'name', 'is', 'Luna', '.']"
      ]
     },
     "execution_count": 51,
     "metadata": {},
     "output_type": "execute_result"
    }
   ],
   "source": [
    "word_tokenize(sent_tokenize(sentence)[0])"
   ]
  },
  {
   "cell_type": "markdown",
   "id": "52ebda50-ee25-44ef-9aad-65b76decd2c9",
   "metadata": {},
   "source": [
    "## Stemming"
   ]
  },
  {
   "cell_type": "code",
   "execution_count": 52,
   "id": "e32eb07c-8d8a-48c8-bb62-498be6e685b4",
   "metadata": {},
   "outputs": [],
   "source": [
    "from nltk.stem import PorterStemmer\n"
   ]
  },
  {
   "cell_type": "code",
   "execution_count": 53,
   "id": "618fdf6b-1e3b-481d-af9b-cffb9d8fc3e0",
   "metadata": {},
   "outputs": [],
   "source": [
    "ps = PorterStemmer()"
   ]
  },
  {
   "cell_type": "code",
   "execution_count": 55,
   "id": "150c876a-67c8-4f18-b1a3-394ccb0a328b",
   "metadata": {},
   "outputs": [],
   "source": [
    "connect_tokens = [\"connecting\",'connected', 'connectivity','connects', 'connect']"
   ]
  },
  {
   "cell_type": "code",
   "execution_count": 57,
   "id": "f8e34bd2-9383-4d14-ba41-edb2e3d1c1b8",
   "metadata": {},
   "outputs": [
    {
     "name": "stdout",
     "output_type": "stream",
     "text": [
      "connecting  :  connect\n",
      "connected  :  connect\n",
      "connectivity  :  connect\n",
      "connects  :  connect\n",
      "connect  :  connect\n"
     ]
    }
   ],
   "source": [
    "for t in connect_tokens:\n",
    "    print(t, \" : \",ps.stem(t))"
   ]
  },
  {
   "cell_type": "code",
   "execution_count": 58,
   "id": "163ceb22-d92a-40eb-841f-2555863c0def",
   "metadata": {},
   "outputs": [
    {
     "name": "stdout",
     "output_type": "stream",
     "text": [
      "learning  :  learn\n",
      "learned  :  learn\n",
      "learn  :  learn\n",
      "learner  :  learner\n",
      "learners  :  learner\n"
     ]
    }
   ],
   "source": [
    "learn_token = [\"learning\", 'learned', 'learn', 'learner', 'learners']\n",
    "for t in learn_token:\n",
    "    print(t, \" : \",ps.stem(t))"
   ]
  },
  {
   "cell_type": "markdown",
   "id": "1228fcf1-3032-43a9-a8d9-81a5c61bbf24",
   "metadata": {},
   "source": [
    "## Lemmatization"
   ]
  },
  {
   "cell_type": "code",
   "execution_count": 59,
   "id": "b1b297f7-0a7d-47cf-8643-ceb0e68a2171",
   "metadata": {},
   "outputs": [
    {
     "name": "stderr",
     "output_type": "stream",
     "text": [
      "[nltk_data] Downloading package wordnet to /home/vivek/nltk_data...\n"
     ]
    }
   ],
   "source": [
    "nltk.download(\"wordnet\")\n",
    "from nltk.stem import WordNetLemmatizer"
   ]
  },
  {
   "cell_type": "code",
   "execution_count": 60,
   "id": "7ef012b4-37b6-42a8-8b49-d8368f123117",
   "metadata": {},
   "outputs": [],
   "source": [
    "lemmatizer = WordNetLemmatizer()"
   ]
  },
  {
   "cell_type": "code",
   "execution_count": 61,
   "id": "50fc5bff-ebbd-4e73-8dd9-e7dae40d7a92",
   "metadata": {},
   "outputs": [
    {
     "name": "stdout",
     "output_type": "stream",
     "text": [
      "connecting  :  connecting\n",
      "connected  :  connected\n",
      "connectivity  :  connectivity\n",
      "connects  :  connects\n",
      "connect  :  connect\n"
     ]
    }
   ],
   "source": [
    "for t in connect_tokens:\n",
    "    print(t, \" : \",lemmatizer.lemmatize(t))"
   ]
  },
  {
   "cell_type": "code",
   "execution_count": 62,
   "id": "63e70cf1-6bad-46f3-8cff-19a9b143dd6d",
   "metadata": {},
   "outputs": [
    {
     "name": "stdout",
     "output_type": "stream",
     "text": [
      "learning  :  learning\n",
      "learned  :  learned\n",
      "learn  :  learn\n",
      "learner  :  learner\n",
      "learners  :  learner\n"
     ]
    }
   ],
   "source": [
    "for t in learn_token:\n",
    "    print(t, \" : \",lemmatizer.lemmatize(t))"
   ]
  },
  {
   "cell_type": "markdown",
   "id": "481e711b-2c60-4dff-a7fb-bfe312985b51",
   "metadata": {},
   "source": [
    "## NGRAMS"
   ]
  },
  {
   "cell_type": "code",
   "execution_count": 63,
   "id": "65d79a6b-4ec6-4180-99f6-477beb6a5e98",
   "metadata": {},
   "outputs": [],
   "source": [
    "import pandas as pd"
   ]
  },
  {
   "cell_type": "code",
   "execution_count": 64,
   "id": "12337102-491d-47f5-8076-089e01daefa4",
   "metadata": {},
   "outputs": [],
   "source": [
    "import matplotlib.pyplot as plt"
   ]
  },
  {
   "cell_type": "code",
   "execution_count": 65,
   "id": "07241f0b-5ac5-45ce-a61f-2991fdf95f5a",
   "metadata": {},
   "outputs": [],
   "source": [
    "tokens = ['the', 'rise', 'of', 'artificial', 'intelligence', 'has', 'led', 'to', 'significant', 'advancements', 'in', 'natural', 'language', 'processing', 'computer', 'vision', 'and', 'other', 'fields', 'machine', 'learning', 'algorithms', 'are', 'becoming', 'more', 'sophisticated', 'enabling', 'computers', 'to', 'perform', 'complex', 'tasks', 'that', 'were', 'once', 'thought', 'to', 'be', 'the', 'exclusive', 'domain', 'of', 'humans', 'with', 'the', 'advent', 'of', 'deep', 'learning', 'neural', 'networks', 'have', 'become', 'even', 'more', 'powerful', 'capable', 'of', 'processing', 'vast', 'amounts', 'of', 'data', 'and', 'learning', 'from', 'it', 'in', 'ways', 'that', 'were', 'not', 'possible', 'before', 'as', 'a', 'result', 'ai', 'is', 'increasingly', 'being', 'used', 'in', 'a', 'wide', 'range', 'of', 'industries', 'from', 'healthcare', 'to', 'finance', 'to', 'transportation', 'and', 'its', 'impact', 'is', 'only', 'set', 'to', 'grow', 'in', 'the', 'years', 'to', 'come']\n"
   ]
  },
  {
   "cell_type": "code",
   "execution_count": 69,
   "id": "50854162-f7d6-46e5-9f11-f9bf449dcc37",
   "metadata": {},
   "outputs": [
    {
     "data": {
      "text/plain": [
       "(to,)       7\n",
       "(of,)       6\n",
       "(the,)      4\n",
       "(in,)       4\n",
       "(and,)      3\n",
       "           ..\n",
       "(only,)     1\n",
       "(set,)      1\n",
       "(grow,)     1\n",
       "(years,)    1\n",
       "(come,)     1\n",
       "Name: count, Length: 79, dtype: int64"
      ]
     },
     "execution_count": 69,
     "metadata": {},
     "output_type": "execute_result"
    }
   ],
   "source": [
    "unigrams = (pd.Series(nltk.ngrams(tokens,1)).value_counts())\n",
    "unigrams"
   ]
  },
  {
   "cell_type": "code",
   "execution_count": 75,
   "id": "5f47a89d-25b4-41bb-9f55-f32fc056625e",
   "metadata": {},
   "outputs": [
    {
     "data": {
      "text/plain": [
       "Text(0.5, 1.0, '10 most frequently occuring unigrams')"
      ]
     },
     "execution_count": 75,
     "metadata": {},
     "output_type": "execute_result"
    },
    {
     "data": {
      "image/png": "[encoded data removed]",
      "text/plain": [
       "<Figure size 1200x800 with 1 Axes>"
      ]
     },
     "metadata": {},
     "output_type": "display_data"
    }
   ],
   "source": [
    "unigrams[:10].sort_values().plot.barh(color=\"lightsalmon\",figsize=(12,8))\n",
    "plt.title(\"10 most frequently occuring unigrams\")"
   ]
  },
  {
   "cell_type": "code",
   "execution_count": 76,
   "id": "760b9257-06d1-4669-854b-c53e8e570592",
   "metadata": {},
   "outputs": [],
   "source": [
    "bigrams = (pd.Series(nltk.ngrams(tokens,2)).value_counts())"
   ]
  },
  {
   "cell_type": "code",
   "execution_count": 77,
   "id": "70c656c2-7097-4c57-9466-fc5f850da962",
   "metadata": {},
   "outputs": [
    {
     "data": {
      "text/plain": [
       "(that, were)                  2\n",
       "(rise, of)                    1\n",
       "(of, artificial)              1\n",
       "(artificial, intelligence)    1\n",
       "(intelligence, has)           1\n",
       "                             ..\n",
       "(grow, in)                    1\n",
       "(in, the)                     1\n",
       "(the, years)                  1\n",
       "(years, to)                   1\n",
       "(to, come)                    1\n",
       "Name: count, Length: 105, dtype: int64"
      ]
     },
     "execution_count": 77,
     "metadata": {},
     "output_type": "execute_result"
    }
   ],
   "source": [
    "bigrams"
   ]
  },
  {
   "cell_type": "markdown",
   "id": "920e2fa7-bcba-47d6-b6d7-f03765b3432d",
   "metadata": {},
   "source": [
    "# Trip Advisor Review analysis"
   ]
  },
  {
   "cell_type": "code",
   "execution_count": 79,
   "id": "1d721a81-63d5-43da-b375-74307ed80737",
   "metadata": {},
   "outputs": [
    {
     "name": "stdout",
     "output_type": "stream",
     "text": [
      "<class 'pandas.core.frame.DataFrame'>\n",
      "RangeIndex: 109 entries, 0 to 108\n",
      "Data columns (total 2 columns):\n",
      " #   Column  Non-Null Count  Dtype \n",
      "---  ------  --------------  ----- \n",
      " 0   Review  109 non-null    object\n",
      " 1   Rating  109 non-null    int64 \n",
      "dtypes: int64(1), object(1)\n",
      "memory usage: 1.8+ KB\n"
     ]
    }
   ],
   "source": [
    "data = pd.read_csv(\"tripadvisor_hotel_reviews.csv\")\n",
    "data.info()"
   ]
  },
  {
   "cell_type": "code",
   "execution_count": 80,
   "id": "8acc584b-bafa-4667-a221-9cd056ece5a5",
   "metadata": {},
   "outputs": [
    {
     "data": {
      "text/html": [
       "<div>\n",
       "<style scoped>\n",
       "    .dataframe tbody tr th:only-of-type {\n",
       "        vertical-align: middle;\n",
       "    }\n",
       "\n",
       "    .dataframe tbody tr th {\n",
       "        vertical-align: top;\n",
       "    }\n",
       "\n",
       "    .dataframe thead th {\n",
       "        text-align: right;\n",
       "    }\n",
       "</style>\n",
       "<table border=\"1\" class=\"dataframe\">\n",
       "  <thead>\n",
       "    <tr style=\"text-align: right;\">\n",
       "      <th></th>\n",
       "      <th>Review</th>\n",
       "      <th>Rating</th>\n",
       "    </tr>\n",
       "  </thead>\n",
       "  <tbody>\n",
       "    <tr>\n",
       "      <th>0</th>\n",
       "      <td>nice hotel expensive parking got good deal sta...</td>\n",
       "      <td>4</td>\n",
       "    </tr>\n",
       "    <tr>\n",
       "      <th>1</th>\n",
       "      <td>ok nothing special charge diamond member hilto...</td>\n",
       "      <td>2</td>\n",
       "    </tr>\n",
       "    <tr>\n",
       "      <th>2</th>\n",
       "      <td>nice rooms not 4* experience hotel monaco seat...</td>\n",
       "      <td>3</td>\n",
       "    </tr>\n",
       "    <tr>\n",
       "      <th>3</th>\n",
       "      <td>unique, great stay, wonderful time hotel monac...</td>\n",
       "      <td>5</td>\n",
       "    </tr>\n",
       "    <tr>\n",
       "      <th>4</th>\n",
       "      <td>great stay great stay, went seahawk game aweso...</td>\n",
       "      <td>5</td>\n",
       "    </tr>\n",
       "  </tbody>\n",
       "</table>\n",
       "</div>"
      ],
      "text/plain": [
       "                                              Review  Rating\n",
       "0  nice hotel expensive parking got good deal sta...       4\n",
       "1  ok nothing special charge diamond member hilto...       2\n",
       "2  nice rooms not 4* experience hotel monaco seat...       3\n",
       "3  unique, great stay, wonderful time hotel monac...       5\n",
       "4  great stay great stay, went seahawk game aweso...       5"
      ]
     },
     "execution_count": 80,
     "metadata": {},
     "output_type": "execute_result"
    }
   ],
   "source": [
    "data.head()"
   ]
  },
  {
   "cell_type": "code",
   "execution_count": 81,
   "id": "129fc0ac-0faa-43fb-a6ef-b07d5b7284b3",
   "metadata": {},
   "outputs": [
    {
     "data": {
      "text/plain": [
       "'nice hotel expensive parking got good deal stay hotel anniversary, arrived late evening took advice previous reviews did valet parking, check quick easy, little disappointed non-existent view room room clean nice size, bed comfortable woke stiff neck high pillows, not soundproof like heard music room night morning loud bangs doors opening closing hear people talking hallway, maybe just noisy neighbors, aveda bath products nice, did not goldfish stay nice touch taken advantage staying longer, location great walking distance shopping, overall nice experience having pay 40 parking night,  '"
      ]
     },
     "execution_count": 81,
     "metadata": {},
     "output_type": "execute_result"
    }
   ],
   "source": [
    "data['Review'][0]"
   ]
  },
  {
   "cell_type": "code",
   "execution_count": 82,
   "id": "c4703070-b40e-43c2-8383-8352748670a9",
   "metadata": {},
   "outputs": [
    {
     "data": {
      "text/html": [
       "<div>\n",
       "<style scoped>\n",
       "    .dataframe tbody tr th:only-of-type {\n",
       "        vertical-align: middle;\n",
       "    }\n",
       "\n",
       "    .dataframe tbody tr th {\n",
       "        vertical-align: top;\n",
       "    }\n",
       "\n",
       "    .dataframe thead th {\n",
       "        text-align: right;\n",
       "    }\n",
       "</style>\n",
       "<table border=\"1\" class=\"dataframe\">\n",
       "  <thead>\n",
       "    <tr style=\"text-align: right;\">\n",
       "      <th></th>\n",
       "      <th>Review</th>\n",
       "      <th>Rating</th>\n",
       "      <th>review_lowercase</th>\n",
       "    </tr>\n",
       "  </thead>\n",
       "  <tbody>\n",
       "    <tr>\n",
       "      <th>0</th>\n",
       "      <td>nice hotel expensive parking got good deal sta...</td>\n",
       "      <td>4</td>\n",
       "      <td>nice hotel expensive parking got good deal sta...</td>\n",
       "    </tr>\n",
       "    <tr>\n",
       "      <th>1</th>\n",
       "      <td>ok nothing special charge diamond member hilto...</td>\n",
       "      <td>2</td>\n",
       "      <td>ok nothing special charge diamond member hilto...</td>\n",
       "    </tr>\n",
       "    <tr>\n",
       "      <th>2</th>\n",
       "      <td>nice rooms not 4* experience hotel monaco seat...</td>\n",
       "      <td>3</td>\n",
       "      <td>nice rooms not 4* experience hotel monaco seat...</td>\n",
       "    </tr>\n",
       "    <tr>\n",
       "      <th>3</th>\n",
       "      <td>unique, great stay, wonderful time hotel monac...</td>\n",
       "      <td>5</td>\n",
       "      <td>unique, great stay, wonderful time hotel monac...</td>\n",
       "    </tr>\n",
       "    <tr>\n",
       "      <th>4</th>\n",
       "      <td>great stay great stay, went seahawk game aweso...</td>\n",
       "      <td>5</td>\n",
       "      <td>great stay great stay, went seahawk game aweso...</td>\n",
       "    </tr>\n",
       "  </tbody>\n",
       "</table>\n",
       "</div>"
      ],
      "text/plain": [
       "                                              Review  Rating  \\\n",
       "0  nice hotel expensive parking got good deal sta...       4   \n",
       "1  ok nothing special charge diamond member hilto...       2   \n",
       "2  nice rooms not 4* experience hotel monaco seat...       3   \n",
       "3  unique, great stay, wonderful time hotel monac...       5   \n",
       "4  great stay great stay, went seahawk game aweso...       5   \n",
       "\n",
       "                                    review_lowercase  \n",
       "0  nice hotel expensive parking got good deal sta...  \n",
       "1  ok nothing special charge diamond member hilto...  \n",
       "2  nice rooms not 4* experience hotel monaco seat...  \n",
       "3  unique, great stay, wonderful time hotel monac...  \n",
       "4  great stay great stay, went seahawk game aweso...  "
      ]
     },
     "execution_count": 82,
     "metadata": {},
     "output_type": "execute_result"
    }
   ],
   "source": [
    "# Converst data in lower case\n",
    "data['review_lowercase']= data['Review'].str.lower()\n",
    "data.head()"
   ]
  },
  {
   "cell_type": "code",
   "execution_count": 83,
   "id": "0ba27a36-55c7-4331-bdfc-539f4c2c6b12",
   "metadata": {},
   "outputs": [],
   "source": [
    "# Remove Stopwords\n",
    "en_stopwords = stopwords.words('english')\n",
    "en_stopwords.remove(\"not\")\n"
   ]
  },
  {
   "cell_type": "code",
   "execution_count": 84,
   "id": "94b6206b-77af-4a66-a119-97ede261c1ec",
   "metadata": {},
   "outputs": [],
   "source": [
    "data['review_no_stopwords'] = data['review_lowercase'] \\\n",
    "                                .apply(lambda x: ' ' \\\n",
    "                                .join([word for word \\\n",
    "                                in x.split() if word \\\n",
    "                                not in (en_stopwords)]))"
   ]
  },
  {
   "cell_type": "code",
   "execution_count": 85,
   "id": "bfce6710-f028-40a4-9b37-11085e349e9d",
   "metadata": {},
   "outputs": [
    {
     "data": {
      "text/html": [
       "<div>\n",
       "<style scoped>\n",
       "    .dataframe tbody tr th:only-of-type {\n",
       "        vertical-align: middle;\n",
       "    }\n",
       "\n",
       "    .dataframe tbody tr th {\n",
       "        vertical-align: top;\n",
       "    }\n",
       "\n",
       "    .dataframe thead th {\n",
       "        text-align: right;\n",
       "    }\n",
       "</style>\n",
       "<table border=\"1\" class=\"dataframe\">\n",
       "  <thead>\n",
       "    <tr style=\"text-align: right;\">\n",
       "      <th></th>\n",
       "      <th>Review</th>\n",
       "      <th>Rating</th>\n",
       "      <th>review_lowercase</th>\n",
       "      <th>review_no_stopwords</th>\n",
       "    </tr>\n",
       "  </thead>\n",
       "  <tbody>\n",
       "    <tr>\n",
       "      <th>0</th>\n",
       "      <td>nice hotel expensive parking got good deal sta...</td>\n",
       "      <td>4</td>\n",
       "      <td>nice hotel expensive parking got good deal sta...</td>\n",
       "      <td>nice hotel expensive parking got good deal sta...</td>\n",
       "    </tr>\n",
       "    <tr>\n",
       "      <th>1</th>\n",
       "      <td>ok nothing special charge diamond member hilto...</td>\n",
       "      <td>2</td>\n",
       "      <td>ok nothing special charge diamond member hilto...</td>\n",
       "      <td>ok nothing special charge diamond member hilto...</td>\n",
       "    </tr>\n",
       "    <tr>\n",
       "      <th>2</th>\n",
       "      <td>nice rooms not 4* experience hotel monaco seat...</td>\n",
       "      <td>3</td>\n",
       "      <td>nice rooms not 4* experience hotel monaco seat...</td>\n",
       "      <td>nice rooms not 4* experience hotel monaco seat...</td>\n",
       "    </tr>\n",
       "    <tr>\n",
       "      <th>3</th>\n",
       "      <td>unique, great stay, wonderful time hotel monac...</td>\n",
       "      <td>5</td>\n",
       "      <td>unique, great stay, wonderful time hotel monac...</td>\n",
       "      <td>unique, great stay, wonderful time hotel monac...</td>\n",
       "    </tr>\n",
       "    <tr>\n",
       "      <th>4</th>\n",
       "      <td>great stay great stay, went seahawk game aweso...</td>\n",
       "      <td>5</td>\n",
       "      <td>great stay great stay, went seahawk game aweso...</td>\n",
       "      <td>great stay great stay, went seahawk game aweso...</td>\n",
       "    </tr>\n",
       "  </tbody>\n",
       "</table>\n",
       "</div>"
      ],
      "text/plain": [
       "                                              Review  Rating  \\\n",
       "0  nice hotel expensive parking got good deal sta...       4   \n",
       "1  ok nothing special charge diamond member hilto...       2   \n",
       "2  nice rooms not 4* experience hotel monaco seat...       3   \n",
       "3  unique, great stay, wonderful time hotel monac...       5   \n",
       "4  great stay great stay, went seahawk game aweso...       5   \n",
       "\n",
       "                                    review_lowercase  \\\n",
       "0  nice hotel expensive parking got good deal sta...   \n",
       "1  ok nothing special charge diamond member hilto...   \n",
       "2  nice rooms not 4* experience hotel monaco seat...   \n",
       "3  unique, great stay, wonderful time hotel monac...   \n",
       "4  great stay great stay, went seahawk game aweso...   \n",
       "\n",
       "                                 review_no_stopwords  \n",
       "0  nice hotel expensive parking got good deal sta...  \n",
       "1  ok nothing special charge diamond member hilto...  \n",
       "2  nice rooms not 4* experience hotel monaco seat...  \n",
       "3  unique, great stay, wonderful time hotel monac...  \n",
       "4  great stay great stay, went seahawk game aweso...  "
      ]
     },
     "execution_count": 85,
     "metadata": {},
     "output_type": "execute_result"
    }
   ],
   "source": [
    "data.head()"
   ]
  },
  {
   "cell_type": "code",
   "execution_count": 86,
   "id": "9a2f6a3f-c340-458e-bd73-b16eb490dda0",
   "metadata": {},
   "outputs": [],
   "source": [
    "# Remove Punctuation\n",
    "data['review_no_stopwords_no_punct'] = data \\\n",
    "                                    .apply(lambda x: \\\n",
    "                                    re.sub(r\"[*]\", \\\n",
    "                                    \"star\", \\\n",
    "                                    x['review_no_stopwords'] \\\n",
    "                                    ), axis=1)"
   ]
  },
  {
   "cell_type": "code",
   "execution_count": 87,
   "id": "3559ba6b-2264-4232-8d03-a46b645bfeed",
   "metadata": {},
   "outputs": [],
   "source": [
    "data['review_no_stopwords_no_punct'] = data. \\\n",
    "                                    apply(lambda x: \\\n",
    "                                    re.sub(r\"([^\\w\\s])\", \\\n",
    "                                    \"\", \\\n",
    "                                    x['review_no_stopwords_no_punct'] \\\n",
    "                                    ), axis=1)"
   ]
  },
  {
   "cell_type": "code",
   "execution_count": 88,
   "id": "3e65a426-2770-4f1f-a314-4eb13d4ea902",
   "metadata": {},
   "outputs": [
    {
     "data": {
      "text/html": [
       "<div>\n",
       "<style scoped>\n",
       "    .dataframe tbody tr th:only-of-type {\n",
       "        vertical-align: middle;\n",
       "    }\n",
       "\n",
       "    .dataframe tbody tr th {\n",
       "        vertical-align: top;\n",
       "    }\n",
       "\n",
       "    .dataframe thead th {\n",
       "        text-align: right;\n",
       "    }\n",
       "</style>\n",
       "<table border=\"1\" class=\"dataframe\">\n",
       "  <thead>\n",
       "    <tr style=\"text-align: right;\">\n",
       "      <th></th>\n",
       "      <th>Review</th>\n",
       "      <th>Rating</th>\n",
       "      <th>review_lowercase</th>\n",
       "      <th>review_no_stopwords</th>\n",
       "      <th>review_no_stopwords_no_punct</th>\n",
       "    </tr>\n",
       "  </thead>\n",
       "  <tbody>\n",
       "    <tr>\n",
       "      <th>0</th>\n",
       "      <td>nice hotel expensive parking got good deal sta...</td>\n",
       "      <td>4</td>\n",
       "      <td>nice hotel expensive parking got good deal sta...</td>\n",
       "      <td>nice hotel expensive parking got good deal sta...</td>\n",
       "      <td>nice hotel expensive parking got good deal sta...</td>\n",
       "    </tr>\n",
       "    <tr>\n",
       "      <th>1</th>\n",
       "      <td>ok nothing special charge diamond member hilto...</td>\n",
       "      <td>2</td>\n",
       "      <td>ok nothing special charge diamond member hilto...</td>\n",
       "      <td>ok nothing special charge diamond member hilto...</td>\n",
       "      <td>ok nothing special charge diamond member hilto...</td>\n",
       "    </tr>\n",
       "    <tr>\n",
       "      <th>2</th>\n",
       "      <td>nice rooms not 4* experience hotel monaco seat...</td>\n",
       "      <td>3</td>\n",
       "      <td>nice rooms not 4* experience hotel monaco seat...</td>\n",
       "      <td>nice rooms not 4* experience hotel monaco seat...</td>\n",
       "      <td>nice rooms not 4star experience hotel monaco s...</td>\n",
       "    </tr>\n",
       "    <tr>\n",
       "      <th>3</th>\n",
       "      <td>unique, great stay, wonderful time hotel monac...</td>\n",
       "      <td>5</td>\n",
       "      <td>unique, great stay, wonderful time hotel monac...</td>\n",
       "      <td>unique, great stay, wonderful time hotel monac...</td>\n",
       "      <td>unique great stay wonderful time hotel monaco ...</td>\n",
       "    </tr>\n",
       "    <tr>\n",
       "      <th>4</th>\n",
       "      <td>great stay great stay, went seahawk game aweso...</td>\n",
       "      <td>5</td>\n",
       "      <td>great stay great stay, went seahawk game aweso...</td>\n",
       "      <td>great stay great stay, went seahawk game aweso...</td>\n",
       "      <td>great stay great stay went seahawk game awesom...</td>\n",
       "    </tr>\n",
       "  </tbody>\n",
       "</table>\n",
       "</div>"
      ],
      "text/plain": [
       "                                              Review  Rating  \\\n",
       "0  nice hotel expensive parking got good deal sta...       4   \n",
       "1  ok nothing special charge diamond member hilto...       2   \n",
       "2  nice rooms not 4* experience hotel monaco seat...       3   \n",
       "3  unique, great stay, wonderful time hotel monac...       5   \n",
       "4  great stay great stay, went seahawk game aweso...       5   \n",
       "\n",
       "                                    review_lowercase  \\\n",
       "0  nice hotel expensive parking got good deal sta...   \n",
       "1  ok nothing special charge diamond member hilto...   \n",
       "2  nice rooms not 4* experience hotel monaco seat...   \n",
       "3  unique, great stay, wonderful time hotel monac...   \n",
       "4  great stay great stay, went seahawk game aweso...   \n",
       "\n",
       "                                 review_no_stopwords  \\\n",
       "0  nice hotel expensive parking got good deal sta...   \n",
       "1  ok nothing special charge diamond member hilto...   \n",
       "2  nice rooms not 4* experience hotel monaco seat...   \n",
       "3  unique, great stay, wonderful time hotel monac...   \n",
       "4  great stay great stay, went seahawk game aweso...   \n",
       "\n",
       "                        review_no_stopwords_no_punct  \n",
       "0  nice hotel expensive parking got good deal sta...  \n",
       "1  ok nothing special charge diamond member hilto...  \n",
       "2  nice rooms not 4star experience hotel monaco s...  \n",
       "3  unique great stay wonderful time hotel monaco ...  \n",
       "4  great stay great stay went seahawk game awesom...  "
      ]
     },
     "execution_count": 88,
     "metadata": {},
     "output_type": "execute_result"
    }
   ],
   "source": [
    "data.head()"
   ]
  },
  {
   "cell_type": "code",
   "execution_count": 89,
   "id": "69ab4ed1-e702-4081-8323-4a4976419965",
   "metadata": {},
   "outputs": [],
   "source": [
    "data['tokenized'] = data.apply(lambda x: \\\n",
    "                               word_tokenize( \\\n",
    "                               x['review_no_stopwords_no_punct'] \\\n",
    "                               ), axis=1)"
   ]
  },
  {
   "cell_type": "code",
   "execution_count": null,
   "id": "434c25df-2823-401e-944d-84bdc4653958",
   "metadata": {},
   "outputs": [],
   "source": []
  }
 ],
 "metadata": {
  "kernelspec": {
   "display_name": "Python 3 (ipykernel)",
   "language": "python",
   "name": "python3"
  },
  "language_info": {
   "codemirror_mode": {
    "name": "ipython",
    "version": 3
   },
   "file_extension": ".py",
   "mimetype": "text/x-python",
   "name": "python",
   "nbconvert_exporter": "python",
   "pygments_lexer": "ipython3",
   "version": "3.11.2"
  }
 },
 "nbformat": 4,
 "nbformat_minor": 5
}

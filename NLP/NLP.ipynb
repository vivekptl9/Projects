{
 "cells": [
  {
   "cell_type": "code",
   "execution_count": 3,
   "id": "426c3cad-da32-47e3-8e10-fab5f3ed54af",
   "metadata": {},
   "outputs": [
    {
     "name": "stderr",
     "output_type": "stream",
     "text": [
      "[nltk_data] Downloading package stopwords to /home/vivek/nltk_data...\n",
      "[nltk_data]   Unzipping corpora/stopwords.zip.\n"
     ]
    }
   ],
   "source": [
    "import nltk\n",
    "nltk.download ('stopwords')\n",
    "from nltk.corpus import stopwords"
   ]
  },
  {
   "cell_type": "code",
   "execution_count": 6,
   "id": "f6cd7551-a0da-49c3-a554-45d3bd965d0a",
   "metadata": {},
   "outputs": [],
   "source": [
    "en_stopwords = stopwords.words('english')"
   ]
  },
  {
   "cell_type": "code",
   "execution_count": 8,
   "id": "c71d746d-c533-4223-a7ea-c7a16be7ba18",
   "metadata": {},
   "outputs": [],
   "source": [
    "#en_stopwords"
   ]
  },
  {
   "cell_type": "code",
   "execution_count": 21,
   "id": "647a6585-8ade-4494-a00a-af3da2a7548b",
   "metadata": {},
   "outputs": [],
   "source": [
    "sentence = \"it was too far to go to the shop and he did not want her to walk\""
   ]
  },
  {
   "cell_type": "code",
   "execution_count": 22,
   "id": "43f4f088-a84f-4b10-9238-45f8bf0e5f27",
   "metadata": {},
   "outputs": [],
   "source": [
    "sentence_no_stopwords = \" \".join([word for word in sentence.split() if word not in en_stopwords])"
   ]
  },
  {
   "cell_type": "code",
   "execution_count": 23,
   "id": "a575cfd2-ca92-4028-bfa3-4eee2102d0c8",
   "metadata": {},
   "outputs": [
    {
     "data": {
      "text/plain": [
       "'far shop did not want walk'"
      ]
     },
     "execution_count": 23,
     "metadata": {},
     "output_type": "execute_result"
    }
   ],
   "source": [
    "sentence_no_stopwords"
   ]
  },
  {
   "cell_type": "code",
   "execution_count": 24,
   "id": "acb24a9a-1aa5-478a-8190-7a3789b0bf83",
   "metadata": {},
   "outputs": [
    {
     "ename": "ValueError",
     "evalue": "list.remove(x): x not in list",
     "output_type": "error",
     "traceback": [
      "\u001b[0;31m---------------------------------------------------------------------------\u001b[0m",
      "\u001b[0;31mValueError\u001b[0m                                Traceback (most recent call last)",
      "Cell \u001b[0;32mIn[24], line 1\u001b[0m\n\u001b[0;32m----> 1\u001b[0m \u001b[43men_stopwords\u001b[49m\u001b[38;5;241;43m.\u001b[39;49m\u001b[43mremove\u001b[49m\u001b[43m \u001b[49m\u001b[43m(\u001b[49m\u001b[38;5;124;43m\"\u001b[39;49m\u001b[38;5;124;43mnot\u001b[39;49m\u001b[38;5;124;43m\"\u001b[39;49m\u001b[43m)\u001b[49m\n",
      "\u001b[0;31mValueError\u001b[0m: list.remove(x): x not in list"
     ]
    }
   ],
   "source": [
    "en_stopwords.remove (\"not\")"
   ]
  },
  {
   "cell_type": "code",
   "execution_count": 25,
   "id": "e94f7c15-bc7a-4888-a998-6518a62f1be7",
   "metadata": {},
   "outputs": [
    {
     "ename": "ValueError",
     "evalue": "list.remove(x): x not in list",
     "output_type": "error",
     "traceback": [
      "\u001b[0;31m---------------------------------------------------------------------------\u001b[0m",
      "\u001b[0;31mValueError\u001b[0m                                Traceback (most recent call last)",
      "Cell \u001b[0;32mIn[25], line 1\u001b[0m\n\u001b[0;32m----> 1\u001b[0m \u001b[43men_stopwords\u001b[49m\u001b[38;5;241;43m.\u001b[39;49m\u001b[43mremove\u001b[49m\u001b[43m \u001b[49m\u001b[43m(\u001b[49m\u001b[38;5;124;43m\"\u001b[39;49m\u001b[38;5;124;43mdid\u001b[39;49m\u001b[38;5;124;43m\"\u001b[39;49m\u001b[43m)\u001b[49m\n\u001b[1;32m      2\u001b[0m en_stopwords\u001b[38;5;241m.\u001b[39mappend (\u001b[38;5;124m\"\u001b[39m\u001b[38;5;124mgo\u001b[39m\u001b[38;5;124m\"\u001b[39m)\n",
      "\u001b[0;31mValueError\u001b[0m: list.remove(x): x not in list"
     ]
    }
   ],
   "source": [
    "en_stopwords.remove (\"did\")\n",
    "en_stopwords.append (\"go\")"
   ]
  },
  {
   "cell_type": "code",
   "execution_count": 26,
   "id": "8944e963-96d0-4cbb-aa36-c9445aadc241",
   "metadata": {},
   "outputs": [],
   "source": [
    "sentence_no_stopwords = \" \".join([word for word in sentence.split() if word not in en_stopwords])"
   ]
  },
  {
   "cell_type": "code",
   "execution_count": 27,
   "id": "5e156679-aec7-4321-83df-a57d5d8b7972",
   "metadata": {},
   "outputs": [
    {
     "data": {
      "text/plain": [
       "'far shop did not want walk'"
      ]
     },
     "execution_count": 27,
     "metadata": {},
     "output_type": "execute_result"
    }
   ],
   "source": [
    "sentence_no_stopwords"
   ]
  },
  {
   "cell_type": "code",
   "execution_count": 28,
   "id": "353d6b8c-689d-472f-99a7-0a1b830fe2af",
   "metadata": {},
   "outputs": [],
   "source": [
    "import re"
   ]
  },
  {
   "cell_type": "code",
   "execution_count": 29,
   "id": "f76d40e7-e946-46cc-8f1d-01c2ec9ccb93",
   "metadata": {},
   "outputs": [
    {
     "data": {
      "text/plain": [
       "<re.Match object; span=(18, 25), match='pattern'>"
      ]
     },
     "execution_count": 29,
     "metadata": {},
     "output_type": "execute_result"
    }
   ],
   "source": [
    "result_search = re.search(\"pattern\",r\"string to contain pattern\")\n",
    "result_search"
   ]
  },
  {
   "cell_type": "code",
   "execution_count": 30,
   "id": "0462a298-ebd7-4d5e-9d4e-d7d3d1da154d",
   "metadata": {},
   "outputs": [],
   "source": [
    "result_search2 = re.search(\"pattern\",r\"the phrase to find is not in this string\")\n",
    "result_search2"
   ]
  },
  {
   "cell_type": "code",
   "execution_count": 32,
   "id": "2cd55863-ef5f-4bcf-b088-31136e6979e4",
   "metadata": {},
   "outputs": [
    {
     "data": {
      "text/plain": [
       "'sarah was able to help me find the items I needs quickly'"
      ]
     },
     "execution_count": 32,
     "metadata": {},
     "output_type": "execute_result"
    }
   ],
   "source": [
    "string1= r\"sara was able to help me find the items I needs quickly\"\n",
    "new_string1 = re.sub(\"sara\",\"sarah\", string1)\n",
    "new_string1"
   ]
  },
  {
   "cell_type": "code",
   "execution_count": 33,
   "id": "3a7eb70b-c570-4a42-8a15-9488345b0a15",
   "metadata": {},
   "outputs": [],
   "source": [
    "customer_reviews = ['sam was a great help to me in the store', \n",
    "                    'the cashier was very rude to me, I think her name was eleanor', \n",
    "                    'amazing work from sadeen!', \n",
    "                    'sarah was able to help me find the items i needed quickly', \n",
    "                    'lucy is such a great addition to the team', \n",
    "                    'great service from sara she found me what i wanted'\n",
    "                   ]"
   ]
  },
  {
   "cell_type": "code",
   "execution_count": 34,
   "id": "bd08149c-84bc-4efa-96cf-50011baa720a",
   "metadata": {},
   "outputs": [
    {
     "data": {
      "text/plain": [
       "['sarah was able to help me find the items i needed quickly',\n",
       " 'great service from sara she found me what i wanted']"
      ]
     },
     "execution_count": 34,
     "metadata": {},
     "output_type": "execute_result"
    }
   ],
   "source": [
    "sarah_reviews = []\n",
    "pattern = r\"sarah?\"\n",
    "for string in customer_reviews:\n",
    "    if (re.search(pattern, string)):\n",
    "        sarah_reviews.append(string)\n",
    "sarah_reviews"
   ]
  },
  {
   "cell_type": "code",
   "execution_count": 35,
   "id": "ded21e09-f6c4-404c-ba5c-39655475b5a0",
   "metadata": {},
   "outputs": [
    {
     "data": {
      "text/plain": [
       "['amazing work from sadeen!']"
      ]
     },
     "execution_count": 35,
     "metadata": {},
     "output_type": "execute_result"
    }
   ],
   "source": [
    "a_reviews = []\n",
    "pattern_to_find = r\"^a\"\n",
    "for string in customer_reviews:\n",
    "    if(re.search(pattern_to_find,string)):\n",
    "        a_reviews.append(string)\n",
    "a_reviews"
   ]
  },
  {
   "cell_type": "code",
   "execution_count": 36,
   "id": "28b6cdad-1b07-4287-ab7e-a73718ceba39",
   "metadata": {},
   "outputs": [
    {
     "data": {
      "text/plain": [
       "['sarah was able to help me find the items i needed quickly']"
      ]
     },
     "execution_count": 36,
     "metadata": {},
     "output_type": "execute_result"
    }
   ],
   "source": [
    "e_reviews = []\n",
    "pattern_to_find = r\"y$\"\n",
    "for string in customer_reviews:\n",
    "    if(re.search(pattern_to_find,string)):\n",
    "        e_reviews.append(string)\n",
    "e_reviews"
   ]
  },
  {
   "cell_type": "code",
   "execution_count": 38,
   "id": "4a00611a-1d6b-4bab-811a-5d0b9bb5f180",
   "metadata": {},
   "outputs": [
    {
     "data": {
      "text/plain": [
       "['sarah was able to help me find the items i needed quickly',\n",
       " 'great service from sara she found me what i wanted']"
      ]
     },
     "execution_count": 38,
     "metadata": {},
     "output_type": "execute_result"
    }
   ],
   "source": [
    "needwant_reviews = []\n",
    "pattern_to_find = r\"(need|want)ed\"\n",
    "for string in customer_reviews:\n",
    "    if(re.search(pattern_to_find,string)):\n",
    "        needwant_reviews.append(string)\n",
    "needwant_reviews"
   ]
  },
  {
   "cell_type": "code",
   "execution_count": 40,
   "id": "76b0affb-c8fb-4fcf-8d6c-246c8f3f2257",
   "metadata": {},
   "outputs": [
    {
     "data": {
      "text/plain": [
       "['sam was a great help to me in the store',\n",
       " 'the cashier was very rude to me I think her name was eleanor',\n",
       " 'amazing work from sadeen',\n",
       " 'sarah was able to help me find the items i needed quickly',\n",
       " 'lucy is such a great addition to the team',\n",
       " 'great service from sara she found me what i wanted']"
      ]
     },
     "execution_count": 40,
     "metadata": {},
     "output_type": "execute_result"
    }
   ],
   "source": [
    "no_punct_reviews = []\n",
    "pattent_to_find = r\"[^\\w\\s]\"  # r: raw string, [^]: represents NOT, \\w: Word, \\s: White space\n",
    "\n",
    "for string in customer_reviews:\n",
    "    no_punct_string = re.sub(pattent_to_find,\"\",string)\n",
    "    no_punct_reviews.append(no_punct_string)\n",
    "no_punct_reviews"
   ]
  },
  {
   "cell_type": "markdown",
   "id": "540a56a5-071e-447e-8a5b-94f7dad16cf6",
   "metadata": {},
   "source": [
    "## Tokenization"
   ]
  },
  {
   "cell_type": "code",
   "execution_count": 48,
   "id": "0045ffcc-4378-464a-a865-ff814cd1c0a9",
   "metadata": {},
   "outputs": [
    {
     "name": "stderr",
     "output_type": "stream",
     "text": [
      "[nltk_data] Downloading package punkt_tab to /home/vivek/nltk_data...\n",
      "[nltk_data]   Unzipping tokenizers/punkt_tab.zip.\n"
     ]
    }
   ],
   "source": [
    "nltk.download(\"punkt_tab\")\n",
    "from nltk.tokenize import word_tokenize, sent_tokenize"
   ]
  },
  {
   "cell_type": "code",
   "execution_count": 49,
   "id": "a95bb35e-dae7-452b-8961-e0f4a64e7788",
   "metadata": {},
   "outputs": [],
   "source": [
    "sentence = \"Her cat's name is Luna. Her dog's name is Max.\""
   ]
  },
  {
   "cell_type": "code",
   "execution_count": 50,
   "id": "f79ebd48-41a6-435c-b17b-e46104c7efce",
   "metadata": {},
   "outputs": [
    {
     "data": {
      "text/plain": [
       "[\"Her cat's name is Luna.\", \"Her dog's name is Max.\"]"
      ]
     },
     "execution_count": 50,
     "metadata": {},
     "output_type": "execute_result"
    }
   ],
   "source": [
    "sent_tokenize(sentence)"
   ]
  },
  {
   "cell_type": "code",
   "execution_count": 51,
   "id": "0c0855b8-b15e-4c84-afd6-8902c331b48d",
   "metadata": {},
   "outputs": [
    {
     "data": {
      "text/plain": [
       "['Her', 'cat', \"'s\", 'name', 'is', 'Luna', '.']"
      ]
     },
     "execution_count": 51,
     "metadata": {},
     "output_type": "execute_result"
    }
   ],
   "source": [
    "word_tokenize(sent_tokenize(sentence)[0])"
   ]
  },
  {
   "cell_type": "markdown",
   "id": "52ebda50-ee25-44ef-9aad-65b76decd2c9",
   "metadata": {},
   "source": [
    "## Stemming"
   ]
  },
  {
   "cell_type": "code",
   "execution_count": 52,
   "id": "e32eb07c-8d8a-48c8-bb62-498be6e685b4",
   "metadata": {},
   "outputs": [],
   "source": [
    "from nltk.stem import PorterStemmer\n"
   ]
  },
  {
   "cell_type": "code",
   "execution_count": 53,
   "id": "618fdf6b-1e3b-481d-af9b-cffb9d8fc3e0",
   "metadata": {},
   "outputs": [],
   "source": [
    "ps = PorterStemmer()"
   ]
  },
  {
   "cell_type": "code",
   "execution_count": 55,
   "id": "150c876a-67c8-4f18-b1a3-394ccb0a328b",
   "metadata": {},
   "outputs": [],
   "source": [
    "connect_tokens = [\"connecting\",'connected', 'connectivity','connects', 'connect']"
   ]
  },
  {
   "cell_type": "code",
   "execution_count": 57,
   "id": "f8e34bd2-9383-4d14-ba41-edb2e3d1c1b8",
   "metadata": {},
   "outputs": [
    {
     "name": "stdout",
     "output_type": "stream",
     "text": [
      "connecting  :  connect\n",
      "connected  :  connect\n",
      "connectivity  :  connect\n",
      "connects  :  connect\n",
      "connect  :  connect\n"
     ]
    }
   ],
   "source": [
    "for t in connect_tokens:\n",
    "    print(t, \" : \",ps.stem(t))"
   ]
  },
  {
   "cell_type": "code",
   "execution_count": 58,
   "id": "163ceb22-d92a-40eb-841f-2555863c0def",
   "metadata": {},
   "outputs": [
    {
     "name": "stdout",
     "output_type": "stream",
     "text": [
      "learning  :  learn\n",
      "learned  :  learn\n",
      "learn  :  learn\n",
      "learner  :  learner\n",
      "learners  :  learner\n"
     ]
    }
   ],
   "source": [
    "learn_token = [\"learning\", 'learned', 'learn', 'learner', 'learners']\n",
    "for t in learn_token:\n",
    "    print(t, \" : \",ps.stem(t))"
   ]
  },
  {
   "cell_type": "code",
   "execution_count": null,
   "id": "b10b391a-eb39-4af0-a5be-88bffb938c3f",
   "metadata": {},
   "outputs": [],
   "source": []
  }
 ],
 "metadata": {
  "kernelspec": {
   "display_name": "Python 3 (ipykernel)",
   "language": "python",
   "name": "python3"
  },
  "language_info": {
   "codemirror_mode": {
    "name": "ipython",
    "version": 3
   },
   "file_extension": ".py",
   "mimetype": "text/x-python",
   "name": "python",
   "nbconvert_exporter": "python",
   "pygments_lexer": "ipython3",
   "version": "3.11.2"
  }
 },
 "nbformat": 4,
 "nbformat_minor": 5
}

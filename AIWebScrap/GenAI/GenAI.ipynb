{
 "cells": [
  {
   "cell_type": "code",
   "execution_count": 4,
   "id": "4d425783-b0d4-42fb-948e-5239966fa070",
   "metadata": {},
   "outputs": [
    {
     "name": "stdout",
     "output_type": "stream",
     "text": [
      "The first man to land on the moon was Neil Armstrong. He stepped onto the lunar surface on July 20, 1969, during the Apollo 11 mission.\n"
     ]
    }
   ],
   "source": [
    "from langchain_groq import ChatGroq\n",
    "\n",
    "llm = ChatGroq(\n",
    "    model=\"llama-3.1-70b-versatile\",\n",
    "    temperature=0,\n",
    "    groq_api_key=\"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\"\n",
    "   \n",
    "    # other params...\n",
    ")\n",
    "response = llm.invoke(\"The first man to land on moon was..?\")\n",
    "print(response.content)\n"
   ]
  },
  {
   "cell_type": "code",
   "execution_count": 2,
   "id": "95076427-7c94-4fd5-8670-48cf3f44d53f",
   "metadata": {},
   "outputs": [],
   "source": [
    "import pandas as pd"
   ]
  },
  {
   "cell_type": "code",
   "execution_count": 5,
   "id": "8fd3eb39-d280-498d-9031-85ee621a4b40",
   "metadata": {},
   "outputs": [
    {
     "name": "stderr",
     "output_type": "stream",
     "text": [
      "USER_AGENT environment variable not set, consider setting it to identify your requests.\n"
     ]
    },
    {
     "name": "stdout",
     "output_type": "stream",
     "text": [
      "\n",
      "\n",
      "\n",
      "\n",
      "Data Scientist - Nike | LiveHire\n",
      "\n",
      "\n",
      "\n",
      "\n",
      "\n",
      "\n",
      "\n",
      "\n",
      "\n",
      "\n",
      "\n",
      "\n",
      "\n",
      "\n",
      "\n",
      "\n",
      "\n",
      "\n",
      "\n",
      "\n",
      "\n",
      "\n",
      "\n",
      "\n",
      "\n",
      "\n",
      "\n",
      "\n",
      "\n",
      "\n",
      "\n",
      "\n",
      "\n",
      "\n",
      "\n",
      "\n",
      "\n",
      "\n",
      "\n",
      "\n",
      "\n",
      "\n",
      "\n",
      "\n",
      "\n",
      "\n",
      "\n",
      "\n",
      "\n",
      "\n",
      "Log inLiveHireLinkedInFacebookGoogleCancelPowered by‹ Back to all jobsData ScientistHybridLocationBeaverton, OR 97005 - United StatesWork TypeContract/TempPositions1 PositionPublished At:18 hours agoSQLAWSData AnalysispythonData ScienceTableauGitHubJiraPowerBIMachine LearningRefer someoneApplyOnsite: Mon-ThursCategory: TechnologyInnovative Technology; High Quality Products, Self-EmpowermentGlobally Responsible; Sustainable Products, Diversity of ThoughtCelebration of Sports; If You Have a Body, You are an AthleteTitle: Data Scientist Location: Beaverton, ORDuration: 2 year contractNIKE, Inc. does more than outfit the world's best athletes. It is a place to explore potential, obliterate boundaries and push out the edges of what can be. The company looks for people who can grow, think, dream and create. Its culture thrives by embracing diversity and rewarding imagination. The brand seeks achievers, leaders and visionaries. At Nike, it’s about each person bringing skills and passion to a challenging and constantly evolving game.WHAT YOU WILL WORK ONLead to the accomplishment of key goals across the Global Tech (GT) Business Operations and Enablement (BOE) analytics functions. This role will be reporting to the Lead Analyst of the Enterprise Architecture and Developer Platform (EADP) BOE Reporting and Analytics. The critical need is the development and maintenance of a GT wide automated auditing platform for Labor and Finance data using a combination of Python and SQL.Work with key stakeholders across GT to understand requirements, develop sustainable data solutions, and provide insights and recommendations. Document and communicate systems and analytics changes to the business, translating complex functionality into business relevant language. Validate key performance indicators and build queries to quantitatively measure business performance. Communicate with cross-functional teams to understand the business cause of data anomalies and outliers. Develop data governance standards from data ingestion to product dictionaries and documentation. Develop SQL queries and data visualizations using Tableau to fulfill ad-hoc analysis requests and ongoing reporting needs leveraging standard query syntax. Organize and transform information into comprehensible structures. Use data to predict trends and perform statistical analysis. Use data mining to extract information from data sets and identify correlations and patterns. Monitor data quality and remove corrupt data. Evaluate and utilize new technologies, tools, and frameworks centered around high-volume data processing. Improve existing processes through automation and efficient workflows. Build and deliver scalable data and analytics solutions. Work independently and take initiative to identify, explore and solve problems. Design and build innovative data and analytics solutions to support key decisions. Support standard methodologies in reporting and analysis, such as, data integrity, unit testing, data quality control, system integration testing, modeling, validation, and documentation. Independently support end-to-end analysis to advise product strategy, data architecture and reporting decisions.WHAT YOU BRINGKey Requirements:•\tBachelors Degree in Computer Science, Statistics, Mathematics, Business Administration, or related field and minimum of 1-4 years directly relevant work experience (PhD or Masters + 0-3 years of experience preferred) •\tProficiency in programming languages such as Python, R, or SQL•\tExperience in developing and maintaining advanced and automated data cleansing and auditing tools•\tStrong Excel and math skills (advanced academic level)•\tStrong analytical skills and attention to detail•\tExperience with data visualization tools like Tableau or Power BI•\tKnowledge of machine learning algorithms and statistical modeling•\tExcellent communication and teamwork skills•\tAbility to work with large datasets and databases•\tThe candidate needs to have an inclusive mindset and team player mentality while also bringing a detail-oriented approach and thrive in problem solving environments•\tThis individual will need to effectively communicate with global teammates, work cross-culturally, and value differences daily•\tThe ideal candidate will also bring a curious mindset, proactive approach, and a critical focus on strategic sourcing•\tAbility to comb through large amounts of data, analyze, draw conclusions, and present a coherent viewpoint•\tProject management abilities•\tAbility to deal with ambiguity, creative problem solver & want to get their “hands dirty”•\tAble to think on their feet and articulate problems well•\tStrong team player and ability to work with other teams•\tTrack-record of demonstrating in entrepreneurial spirit in fast-paced environmentOptional Requirements:•\tExperience in Tableau or other data visualization tool•\tExperience in AWS RDS or MySQL usage•\tExperience in Databricks usage •\tExperience in developing PowerPoint presentations•\tExperience in using Confluence and Jira•\tExperience in developing pipelines for data ingestion•\tExperience in using GitHub and CoPilot•\tExperience in navigating a complex, matrix corporate structure•\tPassion for the Nike Inc BrandPublished on 09 Sep 2024, 11:18 PMBack to TopRefer someonePowered byPrivacy PolicyTerms of Service\n",
      "\n",
      "\n",
      "\n",
      "\n",
      "\n",
      "\n",
      "\n",
      "\n"
     ]
    }
   ],
   "source": [
    "from langchain_community.document_loaders import WebBaseLoader\n",
    "\n",
    "loader = WebBaseLoader(\"https://www.livehire.com/careers/nikeinc/job/7G7YP/R8CTWY4YA5/data-scientistl\")\n",
    "page_data = loader.load().pop().page_content\n",
    "print(page_data)"
   ]
  },
  {
   "cell_type": "code",
   "execution_count": 6,
   "id": "fcfbe21e-255f-42ad-8843-b5ea5f4b6eaf",
   "metadata": {},
   "outputs": [
    {
     "data": {
      "text/plain": [
       "str"
      ]
     },
     "execution_count": 6,
     "metadata": {},
     "output_type": "execute_result"
    }
   ],
   "source": [
    "from langchain_core.prompts import PromptTemplate\n",
    "\n",
    "prompt_extract = PromptTemplate.from_template(\n",
    "        \"\"\"\n",
    "        ### SCRAPED TEXT FROM WEBSITE:\n",
    "        {page_data}\n",
    "        ### INSTRUCTION:\n",
    "        The scraped text is from the career's page of a website.\n",
    "        Your job is to extract the job postings and return them in JSON format containing the \n",
    "        following keys: `role`, `experience`, `skills` and `description`.\n",
    "        Only return the valid JSON.\n",
    "        ### VALID JSON (NO PREAMBLE):    \n",
    "        \"\"\"\n",
    ")\n",
    "\n",
    "chain_extract = prompt_extract | llm \n",
    "res = chain_extract.invoke(input={'page_data':page_data})\n",
    "type(res.content)"
   ]
  },
  {
   "cell_type": "code",
   "execution_count": 7,
   "id": "4baf1ac7-f120-4d58-b218-124630930df5",
   "metadata": {},
   "outputs": [
    {
     "name": "stdout",
     "output_type": "stream",
     "text": [
      "```\n",
      "{\n",
      "  \"role\": \"Data Scientist\",\n",
      "  \"experience\": \"1-4 years\",\n",
      "  \"skills\": [\n",
      "    \"Python\", \"SQL\", \"Data Analysis\", \"Data Science\", \"Tableau\", \"Machine Learning\", \"R\", \"Power BI\", \"GitHub\", \"Jira\", \"AWS\"\n",
      "  ],\n",
      "  \"description\": \"Lead to the accomplishment of key goals across the Global Tech (GT) Business Operations and Enablement (BOE) analytics functions. This role will be reporting to the Location: Beaverton, OR. The critical need is the development and work with key stakeholders across GT to understand requirements, develop sustainable data solutions, and provide insights and recommendations.\"\n",
      "}\n",
      "```\n"
     ]
    }
   ],
   "source": [
    "print(res.content)"
   ]
  },
  {
   "cell_type": "code",
   "execution_count": 8,
   "id": "da0f6c11-295d-48bd-9134-e2a78d2df43e",
   "metadata": {},
   "outputs": [
    {
     "data": {
      "text/plain": [
       "{'role': 'Data Scientist',\n",
       " 'experience': '1-4 years',\n",
       " 'skills': ['Python',\n",
       "  'SQL',\n",
       "  'Data Analysis',\n",
       "  'Data Science',\n",
       "  'Tableau',\n",
       "  'Machine Learning',\n",
       "  'R',\n",
       "  'Power BI',\n",
       "  'GitHub',\n",
       "  'Jira',\n",
       "  'AWS'],\n",
       " 'description': 'Lead to the accomplishment of key goals across the Global Tech (GT) Business Operations and Enablement (BOE) analytics functions. This role will be reporting to the Location: Beaverton, OR. The critical need is the development and work with key stakeholders across GT to understand requirements, develop sustainable data solutions, and provide insights and recommendations.'}"
      ]
     },
     "execution_count": 8,
     "metadata": {},
     "output_type": "execute_result"
    }
   ],
   "source": [
    "from langchain_core.output_parsers import JsonOutputParser\n",
    "\n",
    "json_parser = JsonOutputParser()\n",
    "json_res = json_parser.parse(res.content)\n",
    "json_res"
   ]
  },
  {
   "cell_type": "code",
   "execution_count": 9,
   "id": "8404cefc-b3a4-4cd2-9641-0ca0668f6c9f",
   "metadata": {},
   "outputs": [],
   "source": [
    "df = pd.read_csv(\"my_portfolio.csv\")"
   ]
  },
  {
   "cell_type": "code",
   "execution_count": 10,
   "id": "5983e979-bbc0-4f76-8a65-5b845d3860f3",
   "metadata": {},
   "outputs": [],
   "source": [
    "import uuid\n",
    "import chromadb\n",
    "\n",
    "client = chromadb.PersistentClient('vectorstore')\n",
    "collection = client.get_or_create_collection(name=\"portfolio\")\n",
    "\n",
    "if not collection.count():\n",
    "    for _, row in df.iterrows():\n",
    "        collection.add(documents=row[\"Techstack\"],\n",
    "                       metadatas={\"links\": row[\"Links\"]},\n",
    "                       ids=[str(uuid.uuid4())])\n"
   ]
  },
  {
   "cell_type": "code",
   "execution_count": 16,
   "id": "3437c1bf-91e8-4120-806a-93c843b3352e",
   "metadata": {},
   "outputs": [
    {
     "data": {
      "text/plain": [
       "[[{'links': 'https://example.com/ml-python-portfolio'},\n",
       "  {'links': 'https://example.com/python-portfolio'}],\n",
       " [{'links': 'https://example.com/react-portfolio'},\n",
       "  {'links': 'https://example.com/react-native-portfolio'}]]"
      ]
     },
     "execution_count": 16,
     "metadata": {},
     "output_type": "execute_result"
    }
   ],
   "source": [
    "# links = collection.query(query_texts=json_res['skills'], n_results=2).get('metadatas', [])\n",
    "# links\n",
    "links = collection.query(query_texts=['python','react'], n_results=2).get('metadatas', [])\n",
    "links"
   ]
  },
  {
   "cell_type": "code",
   "execution_count": 17,
   "id": "df7284bb-2eec-4b16-855e-9502e9f530bb",
   "metadata": {},
   "outputs": [
    {
     "data": {
      "text/plain": [
       "['Python',\n",
       " 'SQL',\n",
       " 'Data Analysis',\n",
       " 'Data Science',\n",
       " 'Tableau',\n",
       " 'Machine Learning',\n",
       " 'R',\n",
       " 'Power BI',\n",
       " 'GitHub',\n",
       " 'Jira',\n",
       " 'AWS']"
      ]
     },
     "execution_count": 17,
     "metadata": {},
     "output_type": "execute_result"
    }
   ],
   "source": [
    "job = json_res\n",
    "job['skills']"
   ]
  },
  {
   "cell_type": "code",
   "execution_count": 18,
   "id": "22ab8a72-6cf2-489c-89b8-bba566603d04",
   "metadata": {},
   "outputs": [
    {
     "name": "stdout",
     "output_type": "stream",
     "text": [
      "Subject: Expert Data Science Solutions for Global Tech Business Operations\n",
      "\n",
      "Dear Hiring Manager,\n",
      "\n",
      "I came across the Data Scientist role at Global Tech Business Operations and Enablement (BOE) and was impressed by the organization's commitment to leveraging data-driven insights to drive key goals. As a Business Development Executive at AtliQ, I'd like to introduce our company as a trusted partner in delivering tailored data science solutions that can help you achieve your objectives.\n",
      "\n",
      "At AtliQ, we specialize in developing sustainable data solutions that cater to the unique needs of our clients. Our team of experts has extensive experience in Python, SQL, Data Analysis, Data Science, Tableau, Machine Learning, R, Power BI, GitHub, Jira, and AWS – aligning perfectly with the skills required for the Data Scientist role. We've empowered numerous enterprises with our automated tools, fostering scalability, process optimization, cost reduction, and heightened overall efficiency.\n",
      "\n",
      "Our portfolio showcases our expertise in machine learning and Python development, which can be particularly relevant to your needs:\n",
      "\n",
      "- https://example.com/ml-python-portfolio\n",
      "- https://example.com/python-portfolio\n",
      "\n",
      "These examples demonstrate our ability to design and implement data-driven solutions that drive business growth. Our team is well-equipped to collaborate with key stakeholders across GT to understand requirements, develop sustainable data solutions, and provide insights and recommendations.\n",
      "\n",
      "I'd love to schedule a call to discuss how AtliQ can support your data science initiatives and help you achieve your goals. Please let me know if you're available for a conversation.\n",
      "\n",
      "Best regards,\n",
      "\n",
      "Mohan\n",
      "Business Development Executive\n",
      "AtliQ\n",
      "[mohan@atliq.com](mailto:mohan@atliq.com)\n",
      "+1 (123) 456-7890\n"
     ]
    }
   ],
   "source": [
    "prompt_email = PromptTemplate.from_template(\n",
    "        \"\"\"\n",
    "        ### JOB DESCRIPTION:\n",
    "        {job_description}\n",
    "        \n",
    "        ### INSTRUCTION:\n",
    "        You are Mohan, a business development executive at AtliQ. AtliQ is an AI & Software Consulting company dedicated to facilitating\n",
    "        the seamless integration of business processes through automated tools. \n",
    "        Over our experience, we have empowered numerous enterprises with tailored solutions, fostering scalability, \n",
    "        process optimization, cost reduction, and heightened overall efficiency. \n",
    "        Your job is to write a cold email to the client regarding the job mentioned above describing the capability of AtliQ \n",
    "        in fulfilling their needs.\n",
    "        Also add the most relevant ones from the following links to showcase Atliq's portfolio: {link_list}\n",
    "        Remember you are Mohan, BDE at AtliQ. \n",
    "        Do not provide a preamble.\n",
    "        ### EMAIL (NO PREAMBLE):\n",
    "        \n",
    "        \"\"\"\n",
    "        )\n",
    "\n",
    "chain_email = prompt_email | llm\n",
    "res = chain_email.invoke({\"job_description\": str(job), \"link_list\": links})\n",
    "print(res.content)"
   ]
  },
  {
   "cell_type": "code",
   "execution_count": null,
   "id": "2ce84f25-afa5-4ced-a0bb-f16568292f12",
   "metadata": {},
   "outputs": [],
   "source": []
  }
 ],
 "metadata": {
  "kernelspec": {
   "display_name": "Python 3 (ipykernel)",
   "language": "python",
   "name": "python3"
  },
  "language_info": {
   "codemirror_mode": {
    "name": "ipython",
    "version": 3
   },
   "file_extension": ".py",
   "mimetype": "text/x-python",
   "name": "python",
   "nbconvert_exporter": "python",
   "pygments_lexer": "ipython3",
   "version": "3.11.2"
  }
 },
 "nbformat": 4,
 "nbformat_minor": 5
}
